{
 "cells": [
  {
   "cell_type": "markdown",
   "metadata": {},
   "source": [
    "### 1. Setting specifications"
   ]
  },
  {
   "cell_type": "code",
   "execution_count": 1,
   "metadata": {},
   "outputs": [],
   "source": [
    "global graph_opts ///\n",
    "\ttitle(, justification(left) color(black) span pos(11)) ///\n",
    "\tgraphregion(color(white) lc(white) lw(med) la(center)) /// <- remove la(center) for Stata < 15\n",
    "\tylab(,angle(0) nogrid) xtit(,placement(left) justification(left)) ///\n",
    "\tyscale(noline) xscale(noline) legend(region(lc(none) fc(none)))\n",
    "\n",
    "local opts lw(thin) lc(white) la(center)\n",
    "\n",
    "label def case 1 \"Case 1\" 2 \"Case 2\" 3 \"Case 3\" 4 \"Case 4\" , modify"
   ]
  },
  {
   "cell_type": "markdown",
   "metadata": {},
   "source": [
    "### 2. Running ado.file\n",
    "``weightab`` produces xlsx sheets and/or bar graphs with weighted cross-group comparisons."
   ]
  },
  {
   "cell_type": "code",
   "execution_count": 2,
   "metadata": {},
   "outputs": [],
   "source": [
    "qui do \"https://raw.githubusercontent.com/worldbank/Stata-IE-Visual-Library/develop/Library/Bar%20plots/Side%20by%20side%20horizontal%20bar%20plot%20(weightab)/weightab.ado\""
   ]
  },
  {
   "cell_type": "markdown",
   "metadata": {},
   "source": [
    "### 3. Uploading data (.dta) "
   ]
  },
  {
   "cell_type": "code",
   "execution_count": 3,
   "metadata": {},
   "outputs": [],
   "source": [
    "use \"https://github.com/worldbank/Stata-IE-Visual-Library/raw/develop/Library/Bar%20plots/Side%20by%20side%20horizontal%20bar%20plot%20(weightab)/data.dta\", clear"
   ]
  },
  {
   "cell_type": "markdown",
   "metadata": {},
   "source": [
    "### 4. Creating the graph1"
   ]
  },
  {
   "cell_type": "code",
   "execution_count": 4,
   "metadata": {},
   "outputs": [
    {
     "name": "stdout",
     "output_type": "stream",
     "text": [
      "\n",
      "(note:  named style med not found in class linewidth, default attributes used)\n",
      "(note:  linewidth not found in scheme, default attributes used)\n",
      "\n"
     ]
    }
   ],
   "source": [
    "weightab ///\n",
    "\tcorrect treat_cxr re_3 re_4 treat_refer t_12 ///\n",
    "\tmed_any med_l_any_1 med_l_any_2 med_l_any_3  med_k_any_9   ///\n",
    "\tif city == 2 ///\n",
    "\t[pweight = weight_city] ///\n",
    "\t, $graph_opts barlab barlook(1 `opts' fi(100)) title(\"Patna\") over(case) graph legend(off) xlab(${pct})\n",
    "\n",
    "qui graph save \"Fig_1_1.gph\" , replace"
   ]
  },
  {
   "cell_type": "markdown",
   "metadata": {},
   "source": [
    "### 5. Creating the graph2"
   ]
  },
  {
   "cell_type": "code",
   "execution_count": 5,
   "metadata": {},
   "outputs": [
    {
     "name": "stdout",
     "output_type": "stream",
     "text": [
      "\n",
      "(note:  named style med not found in class linewidth, default attributes used)\n",
      "(note:  linewidth not found in scheme, default attributes used)\n",
      "\n",
      "(file Fig_1_2.gph saved)\n"
     ]
    }
   ],
   "source": [
    "weightab ///\n",
    "\tcorrect treat_cxr re_3 re_4 treat_refer t_12 ///\n",
    "\tmed_any med_l_any_1 med_l_any_2 med_l_any_3  med_k_any_9  ///\n",
    "\tif city == 3 ///\n",
    "\t[pweight = weight_city] ///\n",
    "\t, $graph_opts barlab barlook(1 `opts'  fi(100)) title(\"Mumbai\") over(case) graph legend(pos(5) ring(0) c(1) symxsize(small) symysize(small)) xlab(${pct})\n",
    "\n",
    "qui graph save \"Fig_1_2.gph\" , replace"
   ]
  },
  {
   "cell_type": "markdown",
   "metadata": {},
   "source": [
    "### 6. Combining the graphs"
   ]
  },
  {
   "cell_type": "code",
   "execution_count": 6,
   "metadata": {},
   "outputs": [
    {
     "name": "stdout",
     "output_type": "stream",
     "text": [
      "(note:  named style med not found in class linewidth, default attributes used)\n",
      "(note:  linewidth not found in scheme, default attributes used)\n",
      "(note:  named style med not found in class linewidth, default attributes used)\n",
      "(note:  linewidth not found in scheme, default attributes used)\n"
     ]
    },
    {
     "data": {
      "image/png": "[encoded data removed]",
      "text/plain": [
       "This front-end cannot display the desired image type."
      ]
     },
     "metadata": {
      "image/png": {
       "height": 343,
       "width": 600
      }
     },
     "output_type": "display_data"
    },
    {
     "name": "stdout",
     "output_type": "stream",
     "text": [
      "\n",
      "\n",
      "\n"
     ]
    }
   ],
   "source": [
    "graph combine ///\n",
    "\t\"Fig_1_1.gph\" ///\n",
    "\t\"Fig_1_2.gph\" ///\n",
    "\t, $comb_opts xsize(7) r(1)"
   ]
  },
  {
   "cell_type": "markdown",
   "metadata": {},
   "source": [
    "### 7. Exporting the graph "
   ]
  },
  {
   "cell_type": "code",
   "execution_count": 7,
   "metadata": {},
   "outputs": [],
   "source": [
    "qui graph export \"figure.png\" , replace width(2000)"
   ]
  }
 ],
 "metadata": {
  "kernelspec": {
   "display_name": "Stata",
   "language": "stata",
   "name": "stata"
  },
  "language_info": {
   "file_extension": ".do",
   "mimetype": "text/x-stata",
   "name": "stata"
  }
 },
 "nbformat": 4,
 "nbformat_minor": 2
}
